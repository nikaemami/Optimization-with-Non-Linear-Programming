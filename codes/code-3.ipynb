{
 "cells": [
  {
   "cell_type": "markdown",
   "metadata": {},
   "source": [
    "# Question 4: "
   ]
  },
  {
   "cell_type": "code",
   "execution_count": 1,
   "metadata": {},
   "outputs": [
    {
     "name": "stdout",
     "output_type": "stream",
     "text": [
      "Requirement already satisfied: pyomo in ./opt/anaconda3/lib/python3.8/site-packages (6.4.3)\n",
      "Requirement already satisfied: ply in ./opt/anaconda3/lib/python3.8/site-packages (from pyomo) (3.11)\n"
     ]
    }
   ],
   "source": [
    "!pip install pyomo"
   ]
  },
  {
   "cell_type": "code",
   "execution_count": 2,
   "metadata": {},
   "outputs": [],
   "source": [
    "import pyomo.environ as pyo\n",
    "from pyomo.environ import *\n",
    "from pyomo.opt import SolverFactory\n",
    "import sys"
   ]
  },
  {
   "cell_type": "code",
   "execution_count": 3,
   "metadata": {},
   "outputs": [],
   "source": [
    "solverpath_folder = \"/Users/Nika/Desktop/ipopt/bin\"\n",
    "solverpath_exe = \"/Users/Nika/Desktop/ipopt/bin/ipopt\"\n",
    "sys.path.append(solverpath_folder)"
   ]
  },
  {
   "cell_type": "code",
   "execution_count": 4,
   "metadata": {},
   "outputs": [],
   "source": [
    "model = pyo.ConcreteModel()\n",
    "model.x1 = pyo.Var(domain=NonNegativeIntegers)\n",
    "model.x2 = pyo.Var(domain=NonNegativeIntegers)\n",
    "model.x3 = pyo.Var(domain=NonNegativeIntegers)\n",
    "model.x4 = pyo.Var(domain=NonNegativeIntegers)\n",
    "x1 = model.x1\n",
    "x2 = model.x2\n",
    "x3 = model.x3\n",
    "x4 = model.x4\n",
    "model.c1 = pyo.Constraint(expr = x1 + 2*x2 + x3 + 4*x4 <= 10)\n",
    "model.c2 = pyo.Constraint(expr = x1 >= 2)\n",
    "model.c3 = pyo.Constraint(expr = x2 >= 3) "
   ]
  },
  {
   "cell_type": "code",
   "execution_count": 5,
   "metadata": {},
   "outputs": [
    {
     "name": "stdout",
     "output_type": "stream",
     "text": [
      "x1 =  4.000000203313086\n",
      "x2 =  2.9999999708357357\n",
      "x3 =  0.0\n",
      "x4 =  0.0\n",
      "optimal value =  11.000000377461909\n"
     ]
    }
   ],
   "source": [
    "model.obj = pyo.Objective(expr = 2*x1 + x2 + x3 + 3*(x4**2), sense = maximize)\n",
    "opt = SolverFactory('ipopt', executable = solverpath_exe)\n",
    "opt.solve(model)\n",
    "x1_value = pyo.value(x1)\n",
    "print('x1 = ',x1_value)\n",
    "x2_value = pyo.value(x2)\n",
    "print('x2 = ',x2_value)\n",
    "x3_value = pyo.value(x3)\n",
    "print('x3 = ',x3_value)\n",
    "x4_value = pyo.value(x4)\n",
    "print('x4 = ',x4_value)\n",
    "print('optimal value = ', pyo.value(model.obj))"
   ]
  }
 ],
 "metadata": {
  "kernelspec": {
   "display_name": "Python 3",
   "language": "python",
   "name": "python3"
  },
  "language_info": {
   "codemirror_mode": {
    "name": "ipython",
    "version": 3
   },
   "file_extension": ".py",
   "mimetype": "text/x-python",
   "name": "python",
   "nbconvert_exporter": "python",
   "pygments_lexer": "ipython3",
   "version": "3.8.5"
  }
 },
 "nbformat": 4,
 "nbformat_minor": 4
}
