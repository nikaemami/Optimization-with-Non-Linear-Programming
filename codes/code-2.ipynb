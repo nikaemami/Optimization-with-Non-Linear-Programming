{
 "cells": [
  {
   "cell_type": "markdown",
   "metadata": {},
   "source": [
    "# Question 5: "
   ]
  },
  {
   "cell_type": "code",
   "execution_count": 1,
   "metadata": {},
   "outputs": [
    {
     "name": "stdout",
     "output_type": "stream",
     "text": [
      "Requirement already satisfied: pyomo in ./opt/anaconda3/lib/python3.8/site-packages (6.4.3)\n",
      "Requirement already satisfied: ply in ./opt/anaconda3/lib/python3.8/site-packages (from pyomo) (3.11)\n"
     ]
    }
   ],
   "source": [
    "!pip install pyomo"
   ]
  },
  {
   "cell_type": "code",
   "execution_count": 2,
   "metadata": {},
   "outputs": [],
   "source": [
    "import pyomo.environ as pyo\n",
    "from pyomo.environ import *\n",
    "from pyomo.opt import SolverFactory\n",
    "import sys"
   ]
  },
  {
   "cell_type": "code",
   "execution_count": 3,
   "metadata": {},
   "outputs": [],
   "source": [
    "solverpath_folder = \"/Users/Nika/Desktop/ipopt/bin\"\n",
    "solverpath_exe = \"/Users/Nika/Desktop/ipopt/bin/ipopt\"\n",
    "sys.path.append(solverpath_folder)"
   ]
  },
  {
   "cell_type": "code",
   "execution_count": 4,
   "metadata": {},
   "outputs": [],
   "source": [
    "model = pyo.ConcreteModel()\n",
    "model.x1 = pyo.Var(domain=NonNegativeReals)\n",
    "model.x2 = pyo.Var(domain=NonNegativeReals)\n",
    "x1 = model.x1\n",
    "x2 = model.x2\n",
    "model.c1 = pyo.Constraint(expr = 2*x1 + x2 <= 3)"
   ]
  },
  {
   "cell_type": "code",
   "execution_count": 9,
   "metadata": {},
   "outputs": [
    {
     "name": "stdout",
     "output_type": "stream",
     "text": [
      "WARNING: Implicitly replacing the Component attribute obj (type=<class\n",
      "    'pyomo.core.base.objective.ScalarObjective'>) on block unknown with a new\n",
      "    Component (type=<class 'pyomo.core.base.objective.ScalarObjective'>). This\n",
      "    is usually indicative of a modelling error. To avoid this warning, use\n",
      "    block.del_component() and block.add_component().\n",
      "2 Var Declarations\n",
      "    x1 : Size=1, Index=None\n",
      "        Key  : Lower : Value : Upper : Fixed : Stale : Domain\n",
      "        None :     0 :   0.0 :  None : False : False : NonNegativeReals\n",
      "    x2 : Size=1, Index=None\n",
      "        Key  : Lower : Value              : Upper : Fixed : Stale : Domain\n",
      "        None :     0 : 3.0000000424693125 :  None : False : False : NonNegativeReals\n",
      "\n",
      "1 Objective Declarations\n",
      "    obj : Size=1, Index=None, Active=True\n",
      "        Key  : Active : Sense    : Expression\n",
      "        None :   True : maximize : log(x1 + 1) + x2\n",
      "\n",
      "1 Constraint Declarations\n",
      "    c1 : Size=1, Index=None, Active=True\n",
      "        Key  : Lower : Body      : Upper : Active\n",
      "        None :  -Inf : 2*x1 + x2 :   3.0 :   True\n",
      "\n",
      "4 Declarations: x1 x2 c1 obj\n"
     ]
    }
   ],
   "source": [
    "model.obj = pyo.Objective(expr = log(x1 + 1) + x2, sense = maximize)\n",
    "opt = SolverFactory('ipopt', executable = solverpath_exe)\n",
    "opt.solve(model)\n",
    "model.pprint()"
   ]
  },
  {
   "cell_type": "code",
   "execution_count": 10,
   "metadata": {},
   "outputs": [
    {
     "name": "stdout",
     "output_type": "stream",
     "text": [
      "x1 =  0.0\n",
      "x2 =  3.0000000424693125\n",
      "optimal value =  3.0000000424693125\n"
     ]
    }
   ],
   "source": [
    "x1_value = pyo.value(x1)\n",
    "print('x1 = ',x1_value)\n",
    "x2_value = pyo.value(x2)\n",
    "print('x2 = ',x2_value)\n",
    "print('optimal value = ', pyo.value(model.obj))"
   ]
  },
  {
   "cell_type": "markdown",
   "metadata": {},
   "source": [
    "As it can be seen from the question, the J function is a concave function (logarithmic), and the term is 'Maximize'. Also, the constraints are linear, so the feasible set is a convex set. Therefore, the problem is a convex optimization problem, and we know that the convex optimization problems have exactly one solution. (Their local optimum is their global optimum.)"
   ]
  }
 ],
 "metadata": {
  "kernelspec": {
   "display_name": "Python 3",
   "language": "python",
   "name": "python3"
  },
  "language_info": {
   "codemirror_mode": {
    "name": "ipython",
    "version": 3
   },
   "file_extension": ".py",
   "mimetype": "text/x-python",
   "name": "python",
   "nbconvert_exporter": "python",
   "pygments_lexer": "ipython3",
   "version": "3.8.5"
  }
 },
 "nbformat": 4,
 "nbformat_minor": 4
}
